{
 "cells": [
  {
   "cell_type": "markdown",
   "metadata": {},
   "source": [
    "# Write a program that accepts two files. The first file contains sentences and the second file contain a list of words (correct_spelled). Your program will take one sentence at a time then check each word in the sentence against all the words in the correct_spelled list and write correct sentence in a new file named as corrected_file file. \n",
    "\n",
    "# Rules for correction are as follows:\n",
    "    \n",
    "#  If a word in the original sentence matches exactly with a word in the correct_spelled then the word is not modified and it should be directly copied to the output file.\n",
    "\n",
    "#  if a word in the sentence can match a word in the correct_spelled list by replacing, inserting, or deleting a single character, then that word should be replaced by the correct word in the correct_spelled list.\n",
    "\n",
    "#  If neither of the two previous conditions is true, then the word in the original sentence should not be modified and should be directly copied to the corrected file.\n",
    "\n",
    "# Notes:\n",
    "    \n",
    "#  Do not spell check one or two letter words (copy them directly to the corrected file.\n",
    "#  In case of a tie use the first word from the correct_spelled list.\n",
    "#  Ignore capitalization, i.e. consider capital letters to be the same as lower case letters.\n",
    "#  All characters in the output string should all be in lower case letters.\n",
    "#  Assume that the input string only includes alphabetic characters and spaces. (az and A-Z)\n",
    "#  Remove extra spaces between the words.\n",
    "#  Remove spaces at the start and end of the output string"
   ]
  },
  ***"hey bro"***
  {
   "cell_type": "code",
   "execution_count": 25,
   "metadata": {},
   "outputs": [],
   "source": [
    "def wordcheck(word,string):\n",
    "    word = word.lower()\n",
    "    string=string.lower()\n",
    "    correct_words = string.split(',')\n",
    "    for c_word in correct_words:\n",
    "        c_word = c_word.lower()\n",
    "        c_word = list(c_word)\n",
    "        word = list(word)\n",
    "        if c_word == word:\n",
    "            return ''.join(c_word)\n",
    "        if(len(c_word) == len(word)):\n",
    "            temp = word[:]\n",
    "            temp1 = c_word[:]\n",
    "            for i in range(len(word)):\n",
    "                del temp[i]\n",
    "                del temp1[i]\n",
    "                if temp == temp1:\n",
    "                    return ''.join(c_word)\n",
    "                temp = word[:]\n",
    "                temp1 = c_word[:]\n",
    "        if(len(c_word) < len(word)):                  \n",
    "            temp = word[:]\n",
    "            for i in range(len(word)):\n",
    "                del temp[i]\n",
    "                if temp == c_word:\n",
    "                    return ''.join(c_word)\n",
    "                temp = word[:]\n",
    "        if(len(c_word) > len(word)):                  \n",
    "            temp = c_word[:]\n",
    "            for i in range(len(c_word)):\n",
    "                del temp[i]\n",
    "                if temp == word:\n",
    "                    return ''.join(c_word)\n",
    "                temp = c_word[:]\n",
    "    return ''.join(word)\n",
    "org = open('D:\\Temp\\Original.txt','r')\n",
    "crc = open('D:\\Temp\\Correct_spelled.txt','r')\n",
    "csl = open('D:\\Temp\\Correct_spelled_list.txt','a')\n",
    "sentences = org.read().split('.')\n",
    "cwords = crc.read().lower()\n",
    "for sentence in sentences:\n",
    "    words = sentence.split(' ')\n",
    "    for word in words:\n",
    "        csl.write(wordcheck(word,cwords))\n",
    "        csl.write(\" \")"
   ]
  },
  {
   "cell_type": "code",
   "execution_count": null,
   "metadata": {},
   "outputs": [],
   "source": []
  }
 ],
 "metadata": {
  "kernelspec": {
   "display_name": "Python 3",
   "language": "python",
   "name": "python3"
  },
  "language_info": {
   "codemirror_mode": {
    "name": "ipython",
    "version": 3
   },
   "file_extension": ".py",
   "mimetype": "text/x-python",
   "name": "python",
   "nbconvert_exporter": "python",
   "pygments_lexer": "ipython3",
   "version": "3.6.5"
  }
 },
 "nbformat": 4,
 "nbformat_minor": 2
}
